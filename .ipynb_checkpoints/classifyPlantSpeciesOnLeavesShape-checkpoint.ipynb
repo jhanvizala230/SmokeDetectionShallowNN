{
 "cells": [
  {
   "cell_type": "code",
   "execution_count": 1,
   "id": "10259725",
   "metadata": {},
   "outputs": [],
   "source": [
    "import numpy as np\n",
    "import tensorflow as tf\n",
    "import matplotlib.pyplot as plt\n",
    "import pandas as pd \n",
    "from keras.layers import Input, Dense\n",
    "from tensorflow.keras.models import Model\n"
   ]
  },
  {
   "cell_type": "code",
   "execution_count": 2,
   "id": "2c9ce17f",
   "metadata": {},
   "outputs": [],
   "source": [
    "path = './smoke_detection_iot.csv'\n",
    "\n",
    "df = pd.read_csv(path)\n",
    "X = df.iloc[:,2:-1].values\n",
    "y = df.iloc[:,-1].values\n"
   ]
  },
  {
   "cell_type": "code",
   "execution_count": 3,
   "id": "a2424434",
   "metadata": {},
   "outputs": [],
   "source": [
    "from sklearn.preprocessing import StandardScaler\n",
    "sc = StandardScaler()\n",
    "X= sc.fit_transform(X)"
   ]
  },
  {
   "cell_type": "code",
   "execution_count": 4,
   "id": "d33c372b",
   "metadata": {},
   "outputs": [],
   "source": [
    "from sklearn.model_selection import train_test_split\n",
    "train_x,test_x,train_y,test_y = train_test_split(X, y, test_size=0.2, random_state=42, shuffle=True)"
   ]
  },
  {
   "cell_type": "code",
   "execution_count": 7,
   "id": "c5cb0d84",
   "metadata": {},
   "outputs": [
    {
     "name": "stdout",
     "output_type": "stream",
     "text": [
      "Model: \"model\"\n",
      "_________________________________________________________________\n",
      " Layer (type)                Output Shape              Param #   \n",
      "=================================================================\n",
      " input_1 (InputLayer)        [(None, 13)]              0         \n",
      "                                                                 \n",
      " dense (Dense)               (None, 16)                224       \n",
      "                                                                 \n",
      " dense_1 (Dense)             (None, 1)                 17        \n",
      "                                                                 \n",
      "=================================================================\n",
      "Total params: 241\n",
      "Trainable params: 241\n",
      "Non-trainable params: 0\n",
      "_________________________________________________________________\n",
      "None\n"
     ]
    },
    {
     "name": "stderr",
     "output_type": "stream",
     "text": [
      "2022-09-12 21:30:47.528178: I tensorflow/core/platform/cpu_feature_guard.cc:151] This TensorFlow binary is optimized with oneAPI Deep Neural Network Library (oneDNN) to use the following CPU instructions in performance-critical operations:  SSE4.1 SSE4.2 AVX AVX2 FMA\n",
      "To enable them in other operations, rebuild TensorFlow with the appropriate compiler flags.\n"
     ]
    }
   ],
   "source": [
    "def smokeDetectionModel():\n",
    "    x = Input(shape=(np.transpose(train_x).shape[0],))\n",
    "    y = Dense(16, activation='relu')(x)\n",
    "\n",
    "    outputs = Dense(1, activation='sigmoid')(y)\n",
    "\n",
    "    model = Model(inputs=x, outputs=outputs)\n",
    "\n",
    "    return model\n",
    "\n",
    "print(smokeDetectionModel().summary())"
   ]
  },
  {
   "cell_type": "code",
   "execution_count": 8,
   "id": "f568037c",
   "metadata": {
    "scrolled": false
   },
   "outputs": [
    {
     "name": "stdout",
     "output_type": "stream",
     "text": [
      "Epoch 1/5\n",
      "1566/1566 [==============================] - 3s 2ms/step - loss: 0.1483 - accuracy: 0.9702 - val_loss: 0.0473 - val_accuracy: 0.9930\n",
      "Epoch 2/5\n",
      "1566/1566 [==============================] - 2s 1ms/step - loss: 0.0323 - accuracy: 0.9962 - val_loss: 0.0222 - val_accuracy: 0.9978\n",
      "Epoch 3/5\n",
      "1566/1566 [==============================] - 3s 2ms/step - loss: 0.0182 - accuracy: 0.9983 - val_loss: 0.0134 - val_accuracy: 0.9990\n",
      "Epoch 4/5\n",
      "1566/1566 [==============================] - 3s 2ms/step - loss: 0.0123 - accuracy: 0.9992 - val_loss: 0.0090 - val_accuracy: 0.9997\n",
      "Epoch 5/5\n",
      "1566/1566 [==============================] - 3s 2ms/step - loss: 0.0089 - accuracy: 0.9995 - val_loss: 0.0062 - val_accuracy: 0.9999\n"
     ]
    }
   ],
   "source": [
    "# compile and fit the model \n",
    "\n",
    "model = smokeDetectionModel()\n",
    "\n",
    "model.compile(optimizer = tf.keras.optimizers.Adam(learning_rate=0.001), \n",
    "              loss = 'binary_crossentropy', \n",
    "              metrics=['accuracy'])\n",
    "\n",
    "history = model.fit(\n",
    "    train_x,train_y, epochs=5,verbose=1,\n",
    "    validation_data=(test_x,test_y))\n"
   ]
  },
  {
   "cell_type": "code",
   "execution_count": 9,
   "id": "3a7d3778",
   "metadata": {},
   "outputs": [
    {
     "name": "stdout",
     "output_type": "stream",
     "text": [
      "392/392 [==============================] - 1s 1ms/step - loss: 0.0062 - accuracy: 0.9999\n",
      "Test accuracy: 100.0%\n"
     ]
    }
   ],
   "source": [
    "# print the accuracy and save the model\n",
    "score = model.evaluate(test_x,test_y,verbose=1)\n",
    "print(\"Test accuracy: %.1f%%\" % (100.0 * score[1]))\n",
    "model.save('smokedetection.h5')"
   ]
  },
  {
   "cell_type": "code",
   "execution_count": 10,
   "id": "e499a777",
   "metadata": {},
   "outputs": [
    {
     "data": {
      "image/png": "[encoded data removed]",
      "text/plain": [
       "<Figure size 432x288 with 1 Axes>"
      ]
     },
     "metadata": {
      "needs_background": "light"
     },
     "output_type": "display_data"
    },
    {
     "data": {
      "image/png": "[encoded data removed]",
      "text/plain": [
       "<Figure size 432x288 with 1 Axes>"
      ]
     },
     "metadata": {
      "needs_background": "light"
     },
     "output_type": "display_data"
    }
   ],
   "source": [
    "# Visualize Loss and Accuracy\n",
    "plt.plot(history.history['accuracy'], label='train accuracy')\n",
    "plt.plot(history.history['val_accuracy'], label = 'validation accuracy')\n",
    "plt.xlabel('Epoch')\n",
    "plt.ylabel('Accuracy')\n",
    "plt.legend(loc='lower right')\n",
    "plt.show()\n",
    "\n",
    "plt.plot(history.history['loss'], label='train loss')\n",
    "plt.plot(history.history['val_loss'], label = 'validation loss')\n",
    "plt.xlabel('Epoch')\n",
    "plt.ylabel('Loss')\n",
    "plt.legend(loc='lower right')\n",
    "plt.show()\n"
   ]
  },
  {
   "cell_type": "markdown",
   "id": "b137e075",
   "metadata": {},
   "source": [
    "###### "
   ]
  }
 ],
 "metadata": {
  "kernelspec": {
   "display_name": "Python 3 (ipykernel)",
   "language": "python",
   "name": "python3"
  },
  "language_info": {
   "codemirror_mode": {
    "name": "ipython",
    "version": 3
   },
   "file_extension": ".py",
   "mimetype": "text/x-python",
   "name": "python",
   "nbconvert_exporter": "python",
   "pygments_lexer": "ipython3",
   "version": "3.9.7"
  }
 },
 "nbformat": 4,
 "nbformat_minor": 5
}
